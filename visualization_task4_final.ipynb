{
 "cells": [
  {
   "cell_type": "code",
   "execution_count": 1,
   "metadata": {},
   "outputs": [],
   "source": [
    "import os\n",
    "import numpy as np\n",
    "import matplotlib.pyplot as plt\n",
    "\n",
    "DIR = '/network/home/zhangire/rl-learn/'"
   ]
  },
  {
   "cell_type": "code",
   "execution_count": 2,
   "metadata": {},
   "outputs": [],
   "source": [
    "def get_nums(line):\n",
    "    tmp = line[11:]\n",
    "    timestep = int(tmp.split(',')[0])\n",
    "    goals_acheived = int(tmp.split(',')[1][16:].split('/')[0])\n",
    "    goals_total = int(tmp.split(',')[1][16:].split('/')[1])\n",
    "    percentage = float(tmp.split(',')[2][12:].split('\\n')[0])\n",
    "\n",
    "    return (timestep, goals_acheived, goals_total, percentage)"
   ]
  },
  {
   "cell_type": "code",
   "execution_count": 3,
   "metadata": {},
   "outputs": [],
   "source": [
    "all_files = []\n",
    "for file in os.listdir(DIR):\n",
    "    if file.startswith(\"infer_\"):\n",
    "        file_name = open(DIR+file, 'r')\n",
    "        lines = file_name.readlines()\n",
    "        if len(lines) < 10: #check files are not empty\n",
    "            print (str(file))\n",
    "            continue\n",
    "        all_files.append(file)"
   ]
  },
  {
   "cell_type": "code",
   "execution_count": 4,
   "metadata": {},
   "outputs": [],
   "source": [
    "xs = []\n",
    "file = all_files[0]\n",
    "file = open(DIR+file, 'r') \n",
    "lines = file.readlines()[:-27]\n",
    "for l in lines:\n",
    "    xs.append(get_nums(l)[0])\n",
    "\n",
    "train_len = len(xs)"
   ]
  },
  {
   "cell_type": "code",
   "execution_count": 5,
   "metadata": {},
   "outputs": [
    {
     "data": {
      "text/plain": [
       "[64,\n",
       " 3264,\n",
       " 6464,\n",
       " 9664,\n",
       " 12864,\n",
       " 16064,\n",
       " 19264,\n",
       " 22464,\n",
       " 25664,\n",
       " 28864,\n",
       " 32064,\n",
       " 35264,\n",
       " 38464,\n",
       " 41664,\n",
       " 44864,\n",
       " 48064,\n",
       " 51264,\n",
       " 54464,\n",
       " 57664,\n",
       " 60864,\n",
       " 64064,\n",
       " 67264,\n",
       " 70464,\n",
       " 73664,\n",
       " 76864,\n",
       " 80064,\n",
       " 83264,\n",
       " 86464,\n",
       " 89664,\n",
       " 92864,\n",
       " 96064,\n",
       " 99264,\n",
       " 102464,\n",
       " 105664,\n",
       " 108864,\n",
       " 112064,\n",
       " 115264,\n",
       " 118464,\n",
       " 121664,\n",
       " 124864,\n",
       " 128064,\n",
       " 131264,\n",
       " 134464,\n",
       " 137664,\n",
       " 140864,\n",
       " 144064,\n",
       " 147264,\n",
       " 150464,\n",
       " 153664,\n",
       " 156864,\n",
       " 160064,\n",
       " 163264,\n",
       " 166464,\n",
       " 169664,\n",
       " 172864,\n",
       " 176064,\n",
       " 179264,\n",
       " 182464,\n",
       " 185664,\n",
       " 188864,\n",
       " 192064,\n",
       " 195264,\n",
       " 198464,\n",
       " 201664,\n",
       " 204864,\n",
       " 208064,\n",
       " 211264,\n",
       " 214464,\n",
       " 217664,\n",
       " 220864,\n",
       " 224064,\n",
       " 227264,\n",
       " 230464,\n",
       " 233664,\n",
       " 236864,\n",
       " 240064,\n",
       " 243264,\n",
       " 246464,\n",
       " 249664,\n",
       " 252864,\n",
       " 256064,\n",
       " 259264,\n",
       " 262464,\n",
       " 265664,\n",
       " 268864,\n",
       " 272064,\n",
       " 275264,\n",
       " 278464,\n",
       " 281664,\n",
       " 284864,\n",
       " 288064,\n",
       " 291264,\n",
       " 294464,\n",
       " 297664,\n",
       " 300864,\n",
       " 304064,\n",
       " 307264,\n",
       " 310464,\n",
       " 313664,\n",
       " 316864,\n",
       " 320064,\n",
       " 323264,\n",
       " 326464,\n",
       " 329664,\n",
       " 332864,\n",
       " 336064,\n",
       " 339264,\n",
       " 342464,\n",
       " 345664,\n",
       " 348864,\n",
       " 352064,\n",
       " 355264,\n",
       " 358464,\n",
       " 361664,\n",
       " 364864,\n",
       " 368064,\n",
       " 371264,\n",
       " 374464,\n",
       " 377664,\n",
       " 380864,\n",
       " 384064,\n",
       " 387264,\n",
       " 390464,\n",
       " 393664,\n",
       " 396864,\n",
       " 400064,\n",
       " 403264,\n",
       " 406464,\n",
       " 409664,\n",
       " 412864,\n",
       " 416064,\n",
       " 419264,\n",
       " 422464,\n",
       " 425664,\n",
       " 428864,\n",
       " 432064,\n",
       " 435264,\n",
       " 438464,\n",
       " 441664,\n",
       " 444864,\n",
       " 448064,\n",
       " 451264,\n",
       " 454464,\n",
       " 457664,\n",
       " 460864,\n",
       " 464064,\n",
       " 467264,\n",
       " 470464,\n",
       " 473664,\n",
       " 476864,\n",
       " 480064,\n",
       " 483264,\n",
       " 486464,\n",
       " 489664,\n",
       " 492864,\n",
       " 496064,\n",
       " 499264]"
      ]
     },
     "execution_count": 5,
     "metadata": {},
     "output_type": "execute_result"
    }
   ],
   "source": [
    "xs "
   ]
  },
  {
   "cell_type": "code",
   "execution_count": 6,
   "metadata": {},
   "outputs": [],
   "source": [
    "def get_goals(file):\n",
    "    goals = [] \n",
    "    file = open(DIR+file, 'r') \n",
    "    lines = file.readlines()[:train_len]\n",
    "    for l in lines:\n",
    "        goals.append(get_nums(l)[1])\n",
    "    return goals\n",
    "    \n"
   ]
  },
  {
   "cell_type": "code",
   "execution_count": 7,
   "metadata": {},
   "outputs": [],
   "source": [
    "def compute_area(xs , ys , max_steps=500000.):\n",
    "    area = 0\n",
    "    x = [0]\n",
    "    y = [0]\n",
    "    for i in range(len(xs)):\n",
    "        x.append(xs[i])\n",
    "        y.append(ys[i])\n",
    "        area += (y[-1] + y[-2])/2.0 * (x[-1] - x[-2])\n",
    "        if x[-1] >= max_steps:\n",
    "            break\n",
    "    return (area / max_steps)"
   ]
  },
  {
   "cell_type": "code",
   "execution_count": 8,
   "metadata": {},
   "outputs": [],
   "source": [
    "def get_mean_area(task, hyp):\n",
    "\n",
    "    files = []\n",
    "\n",
    "    for file in all_files:\n",
    "        if file.startswith(\"infer_\"+str(task)):\n",
    "            if file.endswith(str(hyp)+\"_seed1.txt\") or file.endswith(str(hyp)+\"_seed2.txt\") or file.endswith(str(hyp)+\"_seed3.txt\"):\n",
    "                files.append(file)\n",
    "\n",
    "    areas = []\n",
    "    for file in files:\n",
    "        goals = get_goals(file)\n",
    "        areas.append(compute_area(xs, goals))\n",
    "\n",
    "    return np.mean(areas)"
   ]
  },
  {
   "cell_type": "markdown",
   "metadata": {},
   "source": [
    "# select hyper-parameter"
   ]
  },
  {
   "cell_type": "code",
   "execution_count": 9,
   "metadata": {},
   "outputs": [
    {
     "name": "stdout",
     "output_type": "stream",
     "text": [
      "399.4456888888889\n",
      "217.25226666666669\n",
      "581.6391111111111\n"
     ]
    }
   ],
   "source": [
    "print (get_mean_area(6, 1)+get_mean_area(14, 1)) # 2\n",
    "print (get_mean_area(6, 0.1)+get_mean_area(14, 0.1)) # 3\n",
    "print (get_mean_area(6, 0.01)+get_mean_area(14, 0.01)) # 1"
   ]
  },
  {
   "cell_type": "markdown",
   "metadata": {},
   "source": [
    "# lambda = 0.01"
   ]
  },
  {
   "cell_type": "code",
   "execution_count": 10,
   "metadata": {},
   "outputs": [],
   "source": [
    "def get_policy_acc(exp_id=4, hyp='1.0'):\n",
    "    \n",
    "    accuracy_files = []\n",
    "    for file in os.listdir(DIR):\n",
    "        if file.startswith(\"infer_\"+str(exp_id)):\n",
    "            if file.endswith(hyp+\"_seed1.txt\") or file.endswith(hyp+\"_seed2.txt\") or file.endswith(hyp+\"_seed3.txt\"):\n",
    "                file_name = open(DIR+file, 'r') \n",
    "                accuracy_files.append(file)\n",
    "    \n",
    "    accs = []\n",
    "    for file in accuracy_files:\n",
    "        file = open(DIR+file, 'r') \n",
    "        line = file.readlines()[-2][9:]\n",
    "        accs.append(get_nums(line)[-2])\n",
    "    accs = np.array(accs)\n",
    "    \n",
    "    accs2 = []\n",
    "    for file in accuracy_files:\n",
    "        file = open(DIR+file, 'r') \n",
    "        line = file.readlines()[-2][9:]\n",
    "        accs2.append(get_nums(line)[-1])\n",
    "    accs2 = np.array(accs2)\n",
    "    return (np.mean(accs), np.mean(accs2))"
   ]
  },
  {
   "cell_type": "code",
   "execution_count": 11,
   "metadata": {},
   "outputs": [],
   "source": [
    "def get_plot(exp_id=4, hyp='1.0'):\n",
    "    \n",
    "    accuracy_files = []\n",
    "    for file in os.listdir(DIR):\n",
    "        if file.startswith(\"infer_\"+str(exp_id)):\n",
    "            if file.endswith(hyp+\"_seed1.txt\") or file.endswith(hyp+\"_seed2.txt\") or file.endswith(hyp+\"_seed3.txt\"):\n",
    "                file_name = open(DIR+file, 'r') \n",
    "                accuracy_files.append(file)\n",
    "                \n",
    "    goals_runs = []\n",
    "\n",
    "    for file in accuracy_files:\n",
    "        goals = []\n",
    "        file = open(DIR+file, 'r') \n",
    "        lines = file.readlines()[:-27]\n",
    "        for l in lines:\n",
    "            goals.append(get_nums(l)[1])\n",
    "        goals_runs.append(goals)\n",
    "    \n",
    "    goals_runs = np.array(goals_runs)\n",
    "    means = np.mean(goals_runs, axis=0)\n",
    "    max_means = np.max(goals_runs, axis=0)\n",
    "    min_means = np.min(goals_runs, axis=0)\n",
    "\n",
    "    \n",
    "    #0\n",
    "    accuracy_files = []\n",
    "    for file in os.listdir(DIR):\n",
    "        if file.startswith(\"infer_\"+str(exp_id)):\n",
    "            if file.endswith(\"0.0_seed1.txt\") or file.endswith(\"0.0_seed2.txt\") or file.endswith(\"0.0_seed3.txt\"):\n",
    "                file_name = open(DIR+file, 'r') \n",
    "                lines = file_name.readlines()\n",
    "                if len(lines) < 10:\n",
    "                    continue\n",
    "                accuracy_files.append(file)\n",
    "                \n",
    "    goals_runs = []\n",
    "\n",
    "    for file in accuracy_files:\n",
    "        goals = []\n",
    "        file = open(DIR+file, 'r') \n",
    "        lines = file.readlines()[:-19]\n",
    "        for l in lines:\n",
    "            goals.append(get_nums(l)[1])\n",
    "        goals_runs.append(goals)\n",
    "    \n",
    "    goals_runs = np.array(goals_runs)\n",
    "    means_0 = np.mean(goals_runs, axis=0)\n",
    "    max_means_0 = np.max(goals_runs, axis=0)\n",
    "    min_means_0 = np.min(goals_runs, axis=0)\n",
    "    \n",
    "    \n",
    "    \n",
    "    plt.fill_between(xs, min_means, max_means, color='orange', alpha=.15)\n",
    "    plt.plot(xs, means, color='orange', label = 'Ext+Lang')\n",
    "    \n",
    "    plt.fill_between(xs, min_means_0, max_means_0, color='blue', alpha=.15)\n",
    "    plt.plot(xs, means_0, color='blue', label = 'Ext')\n",
    "    \n",
    "    plt.title('Task %d' %(exp_id))\n",
    "    plt.ylabel('Number of successful episodes')\n",
    "    plt.xlabel('Number of time steps')\n",
    "    plt.legend(loc=\"upper left\")"
   ]
  },
  {
   "cell_type": "code",
   "execution_count": 71,
   "metadata": {
    "scrolled": false
   },
   "outputs": [
    {
     "data": {
      "image/png": "[encoded data removed]",
      "text/plain": [
       "<Figure size 432x288 with 1 Axes>"
      ]
     },
     "metadata": {
      "needs_background": "light"
     },
     "output_type": "display_data"
    }
   ],
   "source": [
    "get_plot(exp_id=4, hyp='0.01')"
   ]
  },
  {
   "cell_type": "code",
   "execution_count": 12,
   "metadata": {},
   "outputs": [
    {
     "data": {
      "text/plain": [
       "(15379.666666666666, 0.8106421730243888)"
      ]
     },
     "execution_count": 12,
     "metadata": {},
     "output_type": "execute_result"
    }
   ],
   "source": [
    "get_policy_acc(exp_id=4, hyp='0.01')"
   ]
  },
  {
   "cell_type": "code",
   "execution_count": 13,
   "metadata": {},
   "outputs": [
    {
     "data": {
      "text/plain": [
       "(11761.555555555555, 0.7678067109615093)"
      ]
     },
     "execution_count": 13,
     "metadata": {},
     "output_type": "execute_result"
    }
   ],
   "source": [
    "get_policy_acc(exp_id=4, hyp='0.0')"
   ]
  },
  {
   "cell_type": "code",
   "execution_count": 14,
   "metadata": {},
   "outputs": [
    {
     "data": {
      "text/plain": [
       "0.30679381619919643"
      ]
     },
     "execution_count": 14,
     "metadata": {},
     "output_type": "execute_result"
    }
   ],
   "source": [
    "(0.7678067109615093+0.0006437430891059143+0.15193099454697415)/3"
   ]
  },
  {
   "cell_type": "code",
   "execution_count": 15,
   "metadata": {},
   "outputs": [
    {
     "data": {
      "text/plain": [
       "0.32799272761568027"
      ]
     },
     "execution_count": 15,
     "metadata": {},
     "output_type": "execute_result"
    }
   ],
   "source": [
    "(0.8106421730243888+0.004448255396625071+0.16888775442602685)/3"
   ]
  },
  {
   "cell_type": "code",
   "execution_count": null,
   "metadata": {},
   "outputs": [],
   "source": []
  }
 ],
 "metadata": {
  "kernelspec": {
   "display_name": "Python 3",
   "language": "python",
   "name": "python3"
  },
  "language_info": {
   "codemirror_mode": {
    "name": "ipython",
    "version": 3
   },
   "file_extension": ".py",
   "mimetype": "text/x-python",
   "name": "python",
   "nbconvert_exporter": "python",
   "pygments_lexer": "ipython3",
   "version": "3.7.3"
  }
 },
 "nbformat": 4,
 "nbformat_minor": 2
}
