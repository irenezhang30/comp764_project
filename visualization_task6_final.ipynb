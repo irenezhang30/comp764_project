{
 "cells": [
  {
   "cell_type": "code",
   "execution_count": 1,
   "metadata": {},
   "outputs": [],
   "source": [
    "import os\n",
    "import numpy as np\n",
    "import matplotlib.pyplot as plt\n",
    "\n",
    "DIR = '/network/home/zhangire/rl-learn/'"
   ]
  },
  {
   "cell_type": "code",
   "execution_count": 2,
   "metadata": {},
   "outputs": [],
   "source": [
    "def get_nums(line):\n",
    "    tmp = line[11:]\n",
    "    timestep = int(tmp.split(',')[0])\n",
    "    goals_acheived = int(tmp.split(',')[1][16:].split('/')[0])\n",
    "    goals_total = int(tmp.split(',')[1][16:].split('/')[1])\n",
    "    percentage = float(tmp.split(',')[2][12:].split('\\n')[0])\n",
    "\n",
    "    return (timestep, goals_acheived, goals_total, percentage)"
   ]
  },
  {
   "cell_type": "code",
   "execution_count": 3,
   "metadata": {},
   "outputs": [],
   "source": [
    "all_files = []\n",
    "for file in os.listdir(DIR):\n",
    "    if file.startswith(\"infer_\"):\n",
    "        file_name = open(DIR+file, 'r')\n",
    "        lines = file_name.readlines()\n",
    "        if len(lines) < 10: #check files are not empty\n",
    "            print (str(file))\n",
    "            continue\n",
    "        all_files.append(file)"
   ]
  },
  {
   "cell_type": "code",
   "execution_count": 4,
   "metadata": {},
   "outputs": [],
   "source": [
    "xs = []\n",
    "file = all_files[0]\n",
    "file = open(DIR+file, 'r') \n",
    "lines = file.readlines()[:-27]\n",
    "for l in lines:\n",
    "    xs.append(get_nums(l)[0])\n",
    "\n",
    "train_len = len(xs)"
   ]
  },
  {
   "cell_type": "code",
   "execution_count": 5,
   "metadata": {},
   "outputs": [],
   "source": [
    "def get_goals(file):\n",
    "    goals = [] \n",
    "    file = open(DIR+file, 'r') \n",
    "    lines = file.readlines()[:train_len]\n",
    "    for l in lines:\n",
    "        goals.append(get_nums(l)[1])\n",
    "    return goals\n",
    "    \n"
   ]
  },
  {
   "cell_type": "code",
   "execution_count": 6,
   "metadata": {},
   "outputs": [],
   "source": [
    "def compute_area(xs , ys , max_steps=500000.):\n",
    "    area = 0\n",
    "    x = [0]\n",
    "    y = [0]\n",
    "    for i in range(len(xs)):\n",
    "        x.append(xs[i])\n",
    "        y.append(ys[i])\n",
    "        area += (y[-1] + y[-2])/2.0 * (x[-1] - x[-2])\n",
    "        if x[-1] >= max_steps:\n",
    "            break\n",
    "    return (area / max_steps)"
   ]
  },
  {
   "cell_type": "code",
   "execution_count": 7,
   "metadata": {},
   "outputs": [],
   "source": [
    "def get_mean_area(task, hyp):\n",
    "\n",
    "    files = []\n",
    "\n",
    "    for file in all_files:\n",
    "        if file.startswith(\"infer_\"+str(task)):\n",
    "            if file.endswith(str(hyp)+\"_seed1.txt\") or file.endswith(str(hyp)+\"_seed2.txt\") or file.endswith(str(hyp)+\"_seed3.txt\"):\n",
    "                files.append(file)\n",
    "\n",
    "    areas = []\n",
    "    for file in files:\n",
    "        goals = get_goals(file)\n",
    "        areas.append(compute_area(xs, goals))\n",
    "\n",
    "    return np.mean(areas)"
   ]
  },
  {
   "cell_type": "markdown",
   "metadata": {},
   "source": [
    "# select hyper-parameter"
   ]
  },
  {
   "cell_type": "code",
   "execution_count": 8,
   "metadata": {},
   "outputs": [
    {
     "name": "stdout",
     "output_type": "stream",
     "text": [
      "5692.678762666667\n",
      "5847.068444444444\n",
      "5538.28908088889\n"
     ]
    }
   ],
   "source": [
    "print (get_mean_area(4, 1)+get_mean_area(14, 1)) # 2\n",
    "print (get_mean_area(4, 0.1)+get_mean_area(14, 0.1)) # 1\n",
    "print (get_mean_area(4, 0.01)+get_mean_area(14, 0.01)) # 3"
   ]
  },
  {
   "cell_type": "markdown",
   "metadata": {},
   "source": [
    "# lambda = 0.1"
   ]
  },
  {
   "cell_type": "code",
   "execution_count": 9,
   "metadata": {},
   "outputs": [],
   "source": [
    "def get_policy_acc(exp_id=4, hyp='1.0'):\n",
    "    \n",
    "    accuracy_files = []\n",
    "    for file in os.listdir(DIR):\n",
    "        if file.startswith(\"infer_\"+str(exp_id)):\n",
    "            if file.endswith(hyp+\"_seed1.txt\") or file.endswith(hyp+\"_seed2.txt\") or file.endswith(hyp+\"_seed3.txt\"):\n",
    "                file_name = open(DIR+file, 'r') \n",
    "                accuracy_files.append(file)\n",
    "    \n",
    "    accs = []\n",
    "    for file in accuracy_files:\n",
    "        file = open(DIR+file, 'r') \n",
    "        line = file.readlines()[-2][9:]\n",
    "        accs.append(get_nums(line)[-2])\n",
    "    accs = np.array(accs)\n",
    "    \n",
    "    accs2 = []\n",
    "    for file in accuracy_files:\n",
    "        file = open(DIR+file, 'r') \n",
    "        line = file.readlines()[-2][9:]\n",
    "        accs2.append(get_nums(line)[-1])\n",
    "    accs2 = np.array(accs2)\n",
    "    return (np.mean(accs), np.mean(accs2))"
   ]
  },
  {
   "cell_type": "code",
   "execution_count": 10,
   "metadata": {},
   "outputs": [],
   "source": [
    "def get_plot(exp_id=4, hyp='1.0'):\n",
    "    \n",
    "    accuracy_files = []\n",
    "    for file in os.listdir(DIR):\n",
    "        if file.startswith(\"infer_\"+str(exp_id)):\n",
    "            if file.endswith(hyp+\"_seed1.txt\") or file.endswith(hyp+\"_seed2.txt\") or file.endswith(hyp+\"_seed3.txt\"):\n",
    "                file_name = open(DIR+file, 'r') \n",
    "                accuracy_files.append(file)\n",
    "                \n",
    "    goals_runs = []\n",
    "\n",
    "    for file in accuracy_files:\n",
    "        goals = []\n",
    "        file = open(DIR+file, 'r') \n",
    "        lines = file.readlines()[:-27]\n",
    "        for l in lines:\n",
    "            goals.append(get_nums(l)[1])\n",
    "        goals_runs.append(goals)\n",
    "    \n",
    "    goals_runs = np.array(goals_runs)\n",
    "    means = np.mean(goals_runs, axis=0)\n",
    "    max_means = np.max(goals_runs, axis=0)\n",
    "    min_means = np.min(goals_runs, axis=0)\n",
    "\n",
    "    \n",
    "    #0\n",
    "    accuracy_files = []\n",
    "    for file in os.listdir(DIR):\n",
    "        if file.startswith(\"infer_\"+str(exp_id)):\n",
    "            if file.endswith(\"0.0_seed1.txt\") or file.endswith(\"0.0_seed2.txt\") or file.endswith(\"0.0_seed3.txt\"):\n",
    "                file_name = open(DIR+file, 'r') \n",
    "                lines = file_name.readlines()\n",
    "                if len(lines) < 10:\n",
    "                    continue\n",
    "                accuracy_files.append(file)\n",
    "                \n",
    "    goals_runs = []\n",
    "\n",
    "    for file in accuracy_files:\n",
    "        goals = []\n",
    "        file = open(DIR+file, 'r') \n",
    "        lines = file.readlines()[:-19]\n",
    "        for l in lines:\n",
    "            goals.append(get_nums(l)[1])\n",
    "        goals_runs.append(goals)\n",
    "    \n",
    "    goals_runs = np.array(goals_runs)\n",
    "    means_0 = np.mean(goals_runs, axis=0)\n",
    "    max_means_0 = np.max(goals_runs, axis=0)\n",
    "    min_means_0 = np.min(goals_runs, axis=0)\n",
    "    \n",
    "    \n",
    "    \n",
    "    plt.fill_between(xs, min_means, max_means, color='orange', alpha=.15)\n",
    "    plt.plot(xs, means, color='orange', label = 'Ext+Lang')\n",
    "    \n",
    "    plt.fill_between(xs, min_means_0, max_means_0, color='blue', alpha=.15)\n",
    "    plt.plot(xs, means_0, color='blue', label = 'Ext')\n",
    "    plt.title('Task %d' %(exp_id))\n",
    "    plt.ylabel('Number of successful episodes')\n",
    "    plt.xlabel('Number of time steps')\n",
    "    plt.legend(loc=\"upper left\")"
   ]
  },
  {
   "cell_type": "code",
   "execution_count": 18,
   "metadata": {
    "scrolled": true
   },
   "outputs": [
    {
     "data": {
      "image/png": "[encoded data removed]",
      "text/plain": [
       "<Figure size 432x288 with 1 Axes>"
      ]
     },
     "metadata": {
      "needs_background": "light"
     },
     "output_type": "display_data"
    }
   ],
   "source": [
    "get_plot(exp_id=6, hyp='0.1')"
   ]
  },
  {
   "cell_type": "code",
   "execution_count": 11,
   "metadata": {},
   "outputs": [
    {
     "data": {
      "text/plain": [
       "(12797.666666666666, 0.004448255396625071)"
      ]
     },
     "execution_count": 11,
     "metadata": {},
     "output_type": "execute_result"
    }
   ],
   "source": [
    "get_policy_acc(exp_id=6, hyp='0.1')"
   ]
  },
  {
   "cell_type": "code",
   "execution_count": 12,
   "metadata": {},
   "outputs": [
    {
     "data": {
      "text/plain": [
       "(6382.888888888889, 0.0006437430891059143)"
      ]
     },
     "execution_count": 12,
     "metadata": {},
     "output_type": "execute_result"
    }
   ],
   "source": [
    "get_policy_acc(exp_id=6, hyp='0.0')"
   ]
  },
  {
   "cell_type": "code",
   "execution_count": null,
   "metadata": {},
   "outputs": [],
   "source": []
  }
 ],
 "metadata": {
  "kernelspec": {
   "display_name": "Python 3",
   "language": "python",
   "name": "python3"
  },
  "language_info": {
   "codemirror_mode": {
    "name": "ipython",
    "version": 3
   },
   "file_extension": ".py",
   "mimetype": "text/x-python",
   "name": "python",
   "nbconvert_exporter": "python",
   "pygments_lexer": "ipython3",
   "version": "3.7.3"
  }
 },
 "nbformat": 4,
 "nbformat_minor": 2
}
